{
 "cells": [
  {
   "cell_type": "code",
   "execution_count": 16,
   "id": "lyric-ethernet",
   "metadata": {},
   "outputs": [],
   "source": [
    "import pandas as pd \n",
    "import numpy as np\n",
    "\n",
    "from sklearn.model_selection import train_test_split\n",
    "from sklearn.metrics import accuracy_score, confusion_matrix\n",
    "from sklearn.model_selection import train_test_split\n",
    "from sklearn.preprocessing import MinMaxScaler\n",
    "from sklearn.ensemble import RandomForestClassifier\n",
    "\n",
    "import warnings\n",
    "warnings.filterwarnings('ignore')\n",
    "\n",
    "import seaborn as sns\n",
    "\n",
    "import matplotlib.pyplot as plt\n",
    "\n",
    "from collections import Counter\n"
   ]
  },
  {
   "cell_type": "code",
   "execution_count": 17,
   "id": "modified-induction",
   "metadata": {},
   "outputs": [],
   "source": [
    "df = pd.read_csv(\"bankloan.csv\")"
   ]
  },
  {
   "cell_type": "code",
   "execution_count": 18,
   "id": "italic-alberta",
   "metadata": {},
   "outputs": [],
   "source": [
    "df = df.dropna()\n",
    "df = df.drop(['Loan_ID','Married','Dependents','Education','Self_Employed','CoapplicantIncome','LoanAmount','Loan_Amount_Term','Credit_History','Property_Area'],axis = 1)"
   ]
  },
  {
   "cell_type": "code",
   "execution_count": 24,
   "id": "passive-piano",
   "metadata": {},
   "outputs": [
    {
     "data": {
      "text/html": [
       "<div>\n",
       "<style scoped>\n",
       "    .dataframe tbody tr th:only-of-type {\n",
       "        vertical-align: middle;\n",
       "    }\n",
       "\n",
       "    .dataframe tbody tr th {\n",
       "        vertical-align: top;\n",
       "    }\n",
       "\n",
       "    .dataframe thead th {\n",
       "        text-align: right;\n",
       "    }\n",
       "</style>\n",
       "<table border=\"1\" class=\"dataframe\">\n",
       "  <thead>\n",
       "    <tr style=\"text-align: right;\">\n",
       "      <th></th>\n",
       "      <th>Gender</th>\n",
       "      <th>ApplicantIncome</th>\n",
       "      <th>Loan_Status</th>\n",
       "    </tr>\n",
       "  </thead>\n",
       "  <tbody>\n",
       "    <tr>\n",
       "      <th>1</th>\n",
       "      <td>Male</td>\n",
       "      <td>4583</td>\n",
       "      <td>N</td>\n",
       "    </tr>\n",
       "    <tr>\n",
       "      <th>2</th>\n",
       "      <td>Male</td>\n",
       "      <td>3000</td>\n",
       "      <td>Y</td>\n",
       "    </tr>\n",
       "    <tr>\n",
       "      <th>3</th>\n",
       "      <td>Male</td>\n",
       "      <td>2583</td>\n",
       "      <td>Y</td>\n",
       "    </tr>\n",
       "    <tr>\n",
       "      <th>4</th>\n",
       "      <td>Male</td>\n",
       "      <td>6000</td>\n",
       "      <td>Y</td>\n",
       "    </tr>\n",
       "    <tr>\n",
       "      <th>5</th>\n",
       "      <td>Male</td>\n",
       "      <td>5417</td>\n",
       "      <td>Y</td>\n",
       "    </tr>\n",
       "    <tr>\n",
       "      <th>...</th>\n",
       "      <td>...</td>\n",
       "      <td>...</td>\n",
       "      <td>...</td>\n",
       "    </tr>\n",
       "    <tr>\n",
       "      <th>609</th>\n",
       "      <td>Female</td>\n",
       "      <td>2900</td>\n",
       "      <td>Y</td>\n",
       "    </tr>\n",
       "    <tr>\n",
       "      <th>610</th>\n",
       "      <td>Male</td>\n",
       "      <td>4106</td>\n",
       "      <td>Y</td>\n",
       "    </tr>\n",
       "    <tr>\n",
       "      <th>611</th>\n",
       "      <td>Male</td>\n",
       "      <td>8072</td>\n",
       "      <td>Y</td>\n",
       "    </tr>\n",
       "    <tr>\n",
       "      <th>612</th>\n",
       "      <td>Male</td>\n",
       "      <td>7583</td>\n",
       "      <td>Y</td>\n",
       "    </tr>\n",
       "    <tr>\n",
       "      <th>613</th>\n",
       "      <td>Female</td>\n",
       "      <td>4583</td>\n",
       "      <td>N</td>\n",
       "    </tr>\n",
       "  </tbody>\n",
       "</table>\n",
       "<p>480 rows × 3 columns</p>\n",
       "</div>"
      ],
      "text/plain": [
       "     Gender  ApplicantIncome Loan_Status\n",
       "1      Male             4583           N\n",
       "2      Male             3000           Y\n",
       "3      Male             2583           Y\n",
       "4      Male             6000           Y\n",
       "5      Male             5417           Y\n",
       "..      ...              ...         ...\n",
       "609  Female             2900           Y\n",
       "610    Male             4106           Y\n",
       "611    Male             8072           Y\n",
       "612    Male             7583           Y\n",
       "613  Female             4583           N\n",
       "\n",
       "[480 rows x 3 columns]"
      ]
     },
     "execution_count": 24,
     "metadata": {},
     "output_type": "execute_result"
    }
   ],
   "source": [
    "df"
   ]
  },
  {
   "cell_type": "code",
   "execution_count": 28,
   "id": "weekly-teaching",
   "metadata": {},
   "outputs": [
    {
     "data": {
      "text/html": [
       "<div>\n",
       "<style scoped>\n",
       "    .dataframe tbody tr th:only-of-type {\n",
       "        vertical-align: middle;\n",
       "    }\n",
       "\n",
       "    .dataframe tbody tr th {\n",
       "        vertical-align: top;\n",
       "    }\n",
       "\n",
       "    .dataframe thead th {\n",
       "        text-align: right;\n",
       "    }\n",
       "</style>\n",
       "<table border=\"1\" class=\"dataframe\">\n",
       "  <thead>\n",
       "    <tr style=\"text-align: right;\">\n",
       "      <th></th>\n",
       "      <th>ApplicantIncome</th>\n",
       "      <th>Gender_Female</th>\n",
       "      <th>Gender_Male</th>\n",
       "    </tr>\n",
       "  </thead>\n",
       "  <tbody>\n",
       "    <tr>\n",
       "      <th>1</th>\n",
       "      <td>4583</td>\n",
       "      <td>0</td>\n",
       "      <td>1</td>\n",
       "    </tr>\n",
       "    <tr>\n",
       "      <th>2</th>\n",
       "      <td>3000</td>\n",
       "      <td>0</td>\n",
       "      <td>1</td>\n",
       "    </tr>\n",
       "    <tr>\n",
       "      <th>3</th>\n",
       "      <td>2583</td>\n",
       "      <td>0</td>\n",
       "      <td>1</td>\n",
       "    </tr>\n",
       "    <tr>\n",
       "      <th>4</th>\n",
       "      <td>6000</td>\n",
       "      <td>0</td>\n",
       "      <td>1</td>\n",
       "    </tr>\n",
       "    <tr>\n",
       "      <th>5</th>\n",
       "      <td>5417</td>\n",
       "      <td>0</td>\n",
       "      <td>1</td>\n",
       "    </tr>\n",
       "    <tr>\n",
       "      <th>...</th>\n",
       "      <td>...</td>\n",
       "      <td>...</td>\n",
       "      <td>...</td>\n",
       "    </tr>\n",
       "    <tr>\n",
       "      <th>609</th>\n",
       "      <td>2900</td>\n",
       "      <td>1</td>\n",
       "      <td>0</td>\n",
       "    </tr>\n",
       "    <tr>\n",
       "      <th>610</th>\n",
       "      <td>4106</td>\n",
       "      <td>0</td>\n",
       "      <td>1</td>\n",
       "    </tr>\n",
       "    <tr>\n",
       "      <th>611</th>\n",
       "      <td>8072</td>\n",
       "      <td>0</td>\n",
       "      <td>1</td>\n",
       "    </tr>\n",
       "    <tr>\n",
       "      <th>612</th>\n",
       "      <td>7583</td>\n",
       "      <td>0</td>\n",
       "      <td>1</td>\n",
       "    </tr>\n",
       "    <tr>\n",
       "      <th>613</th>\n",
       "      <td>4583</td>\n",
       "      <td>1</td>\n",
       "      <td>0</td>\n",
       "    </tr>\n",
       "  </tbody>\n",
       "</table>\n",
       "<p>480 rows × 3 columns</p>\n",
       "</div>"
      ],
      "text/plain": [
       "     ApplicantIncome  Gender_Female  Gender_Male\n",
       "1               4583              0            1\n",
       "2               3000              0            1\n",
       "3               2583              0            1\n",
       "4               6000              0            1\n",
       "5               5417              0            1\n",
       "..               ...            ...          ...\n",
       "609             2900              1            0\n",
       "610             4106              0            1\n",
       "611             8072              0            1\n",
       "612             7583              0            1\n",
       "613             4583              1            0\n",
       "\n",
       "[480 rows x 3 columns]"
      ]
     },
     "execution_count": 28,
     "metadata": {},
     "output_type": "execute_result"
    }
   ],
   "source": [
    "pre_y = df['Loan_Status']\n",
    "pre_X = df.drop('Loan_Status',axis=1)\n",
    "\n",
    "dm_X = pd.get_dummies(pre_X)\n",
    "dm_y = pre_y.map(dict(Y=1,N=0))\n",
    "\n",
    "dm_X"
   ]
  },
  {
   "cell_type": "code",
   "execution_count": 6,
   "id": "beginning-there",
   "metadata": {},
   "outputs": [],
   "source": [
    "scaler = MinMaxScaler()\n",
    "dm_X = scaler.fit_transform(dm_X)"
   ]
  },
  {
   "cell_type": "code",
   "execution_count": 26,
   "id": "elder-integral",
   "metadata": {
    "scrolled": false
   },
   "outputs": [
    {
     "data": {
      "text/html": [
       "<div>\n",
       "<style scoped>\n",
       "    .dataframe tbody tr th:only-of-type {\n",
       "        vertical-align: middle;\n",
       "    }\n",
       "\n",
       "    .dataframe tbody tr th {\n",
       "        vertical-align: top;\n",
       "    }\n",
       "\n",
       "    .dataframe thead th {\n",
       "        text-align: right;\n",
       "    }\n",
       "</style>\n",
       "<table border=\"1\" class=\"dataframe\">\n",
       "  <thead>\n",
       "    <tr style=\"text-align: right;\">\n",
       "      <th></th>\n",
       "      <th>ApplicantIncome</th>\n",
       "      <th>Gender_Female</th>\n",
       "      <th>Gender_Male</th>\n",
       "    </tr>\n",
       "  </thead>\n",
       "  <tbody>\n",
       "    <tr>\n",
       "      <th>1</th>\n",
       "      <td>4583</td>\n",
       "      <td>0</td>\n",
       "      <td>1</td>\n",
       "    </tr>\n",
       "    <tr>\n",
       "      <th>2</th>\n",
       "      <td>3000</td>\n",
       "      <td>0</td>\n",
       "      <td>1</td>\n",
       "    </tr>\n",
       "    <tr>\n",
       "      <th>3</th>\n",
       "      <td>2583</td>\n",
       "      <td>0</td>\n",
       "      <td>1</td>\n",
       "    </tr>\n",
       "    <tr>\n",
       "      <th>4</th>\n",
       "      <td>6000</td>\n",
       "      <td>0</td>\n",
       "      <td>1</td>\n",
       "    </tr>\n",
       "    <tr>\n",
       "      <th>5</th>\n",
       "      <td>5417</td>\n",
       "      <td>0</td>\n",
       "      <td>1</td>\n",
       "    </tr>\n",
       "    <tr>\n",
       "      <th>...</th>\n",
       "      <td>...</td>\n",
       "      <td>...</td>\n",
       "      <td>...</td>\n",
       "    </tr>\n",
       "    <tr>\n",
       "      <th>609</th>\n",
       "      <td>2900</td>\n",
       "      <td>1</td>\n",
       "      <td>0</td>\n",
       "    </tr>\n",
       "    <tr>\n",
       "      <th>610</th>\n",
       "      <td>4106</td>\n",
       "      <td>0</td>\n",
       "      <td>1</td>\n",
       "    </tr>\n",
       "    <tr>\n",
       "      <th>611</th>\n",
       "      <td>8072</td>\n",
       "      <td>0</td>\n",
       "      <td>1</td>\n",
       "    </tr>\n",
       "    <tr>\n",
       "      <th>612</th>\n",
       "      <td>7583</td>\n",
       "      <td>0</td>\n",
       "      <td>1</td>\n",
       "    </tr>\n",
       "    <tr>\n",
       "      <th>613</th>\n",
       "      <td>4583</td>\n",
       "      <td>1</td>\n",
       "      <td>0</td>\n",
       "    </tr>\n",
       "  </tbody>\n",
       "</table>\n",
       "<p>480 rows × 3 columns</p>\n",
       "</div>"
      ],
      "text/plain": [
       "     ApplicantIncome  Gender_Female  Gender_Male\n",
       "1               4583              0            1\n",
       "2               3000              0            1\n",
       "3               2583              0            1\n",
       "4               6000              0            1\n",
       "5               5417              0            1\n",
       "..               ...            ...          ...\n",
       "609             2900              1            0\n",
       "610             4106              0            1\n",
       "611             8072              0            1\n",
       "612             7583              0            1\n",
       "613             4583              1            0\n",
       "\n",
       "[480 rows x 3 columns]"
      ]
     },
     "execution_count": 26,
     "metadata": {},
     "output_type": "execute_result"
    }
   ],
   "source": [
    "dm_X\n"
   ]
  },
  {
   "cell_type": "code",
   "execution_count": 23,
   "id": "seasonal-beginning",
   "metadata": {},
   "outputs": [
    {
     "data": {
      "text/plain": [
       "array([1, 1, 1, 1, 1, 1, 1, 1, 1, 1, 1, 1, 1, 1, 1, 1, 1, 1, 1, 1, 1, 1,\n",
       "       1, 1, 1, 1, 1, 1, 1, 1, 1, 1, 1, 1, 1, 1, 1, 1, 1, 1, 1, 1, 1, 1,\n",
       "       1, 1, 1, 1, 1, 1, 0, 1, 1, 1, 1, 1, 1, 1, 1, 1, 1, 1, 1, 1, 1, 1,\n",
       "       1, 1, 1, 1, 1, 1, 1, 1, 1, 1, 1, 1, 1, 1, 1, 1, 1, 1, 1, 1, 1, 1,\n",
       "       1, 1, 1, 1, 1, 1, 1, 1], dtype=int64)"
      ]
     },
     "execution_count": 23,
     "metadata": {},
     "output_type": "execute_result"
    }
   ],
   "source": [
    "X_train, X_test, y_train, y_test = train_test_split(dm_X,dm_y,test_size=0.2,shuffle=True,random_state=42)\n",
    "\n",
    "clf = RandomForestClassifier(max_depth=2, random_state=0)\n",
    "\n",
    "clf.fit(X_train,y_train)\n",
    "\n",
    "y_pred = clf.predict([2344, 0, 1])\n",
    "clf.score(X_test,y_test)\n",
    "\n",
    "y_pred\n"
   ]
  },
  {
   "cell_type": "code",
   "execution_count": 33,
   "id": "reliable-underground",
   "metadata": {},
   "outputs": [
    {
     "data": {
      "text/plain": [
       "1"
      ]
     },
     "execution_count": 33,
     "metadata": {},
     "output_type": "execute_result"
    }
   ],
   "source": [
    "\n",
    "y_pred = clf.predict([[2344, 0, 1]])\n",
    "y_pred[0]"
   ]
  },
  {
   "cell_type": "code",
   "execution_count": 11,
   "id": "virgin-weight",
   "metadata": {},
   "outputs": [
    {
     "data": {
      "text/plain": [
       "array([[0.03862709, 0.        , 1.        ],\n",
       "       [0.08204082, 0.        , 1.        ],\n",
       "       [0.04155844, 0.        , 1.        ],\n",
       "       [0.03525046, 0.        , 1.        ],\n",
       "       [0.03875077, 0.        , 1.        ],\n",
       "       [0.02561534, 0.        , 1.        ],\n",
       "       [0.03627706, 0.        , 1.        ],\n",
       "       [0.02390847, 0.        , 1.        ],\n",
       "       [0.0225974 , 0.        , 1.        ],\n",
       "       [0.0393692 , 0.        , 1.        ],\n",
       "       [0.03772418, 0.        , 1.        ],\n",
       "       [0.05689549, 0.        , 1.        ],\n",
       "       [0.06577613, 0.        , 1.        ],\n",
       "       [0.05461967, 0.        , 1.        ],\n",
       "       [0.04267161, 0.        , 1.        ],\n",
       "       [0.03471861, 0.        , 1.        ],\n",
       "       [0.05132962, 1.        , 0.        ],\n",
       "       [0.02458874, 1.        , 0.        ],\n",
       "       [0.06801484, 0.        , 1.        ],\n",
       "       [0.17975263, 0.        , 1.        ],\n",
       "       [0.10121212, 1.        , 0.        ],\n",
       "       [0.04555349, 0.        , 1.        ],\n",
       "       [0.0685838 , 0.        , 1.        ],\n",
       "       [0.02906617, 0.        , 1.        ],\n",
       "       [0.05009276, 0.        , 1.        ],\n",
       "       [0.03811998, 0.        , 1.        ],\n",
       "       [0.05199753, 0.        , 1.        ],\n",
       "       [0.0735436 , 0.        , 1.        ],\n",
       "       [0.0660235 , 0.        , 1.        ],\n",
       "       [0.05482993, 0.        , 1.        ],\n",
       "       [0.03721707, 1.        , 0.        ],\n",
       "       [0.0210637 , 0.        , 1.        ],\n",
       "       [0.22489796, 0.        , 1.        ],\n",
       "       [0.0393692 , 0.        , 1.        ],\n",
       "       [0.10121212, 0.        , 1.        ],\n",
       "       [0.11151515, 0.        , 1.        ],\n",
       "       [0.11152752, 0.        , 1.        ],\n",
       "       [0.04773036, 0.        , 1.        ],\n",
       "       [0.14656772, 1.        , 0.        ],\n",
       "       [0.03030303, 0.        , 1.        ],\n",
       "       [0.03111936, 0.        , 1.        ],\n",
       "       [0.0701175 , 0.        , 1.        ],\n",
       "       [0.12687693, 1.        , 0.        ],\n",
       "       [0.17851577, 0.        , 1.        ],\n",
       "       [0.05046382, 1.        , 0.        ],\n",
       "       [0.0247248 , 1.        , 0.        ],\n",
       "       [0.0249227 , 1.        , 0.        ],\n",
       "       [0.02886827, 1.        , 0.        ],\n",
       "       [0.03030303, 0.        , 1.        ],\n",
       "       [0.03731602, 0.        , 1.        ],\n",
       "       [0.00612245, 1.        , 0.        ],\n",
       "       [0.0445269 , 0.        , 1.        ],\n",
       "       [0.05109462, 0.        , 1.        ],\n",
       "       [0.12354978, 0.        , 1.        ],\n",
       "       [0.03648732, 0.        , 1.        ],\n",
       "       [0.03739023, 0.        , 1.        ],\n",
       "       [0.03589363, 0.        , 1.        ],\n",
       "       [0.05482993, 1.        , 0.        ],\n",
       "       [0.09798392, 0.        , 1.        ],\n",
       "       [0.12183055, 1.        , 0.        ],\n",
       "       [0.04587508, 0.        , 1.        ],\n",
       "       [0.18367347, 0.        , 1.        ],\n",
       "       [0.04994434, 0.        , 1.        ],\n",
       "       [0.06636982, 0.        , 1.        ],\n",
       "       [0.08317873, 0.        , 1.        ],\n",
       "       [0.0227953 , 0.        , 1.        ],\n",
       "       [0.02601113, 0.        , 1.        ],\n",
       "       [0.02906617, 0.        , 1.        ],\n",
       "       [0.07544836, 0.        , 1.        ],\n",
       "       [0.04753247, 0.        , 1.        ],\n",
       "       [0.03387755, 0.        , 1.        ],\n",
       "       [0.01990105, 0.        , 1.        ],\n",
       "       [0.04879406, 0.        , 1.        ],\n",
       "       [0.14656772, 0.        , 1.        ],\n",
       "       [0.13419913, 0.        , 1.        ],\n",
       "       [0.07544836, 0.        , 1.        ],\n",
       "       [0.04411874, 0.        , 1.        ],\n",
       "       [0.03401361, 1.        , 0.        ],\n",
       "       [0.07155226, 0.        , 1.        ],\n",
       "       [0.04291899, 0.        , 1.        ],\n",
       "       [0.07751391, 0.        , 1.        ],\n",
       "       [0.05858998, 0.        , 1.        ],\n",
       "       [0.10121212, 0.        , 1.        ],\n",
       "       [0.19752628, 0.        , 1.        ],\n",
       "       [0.11638837, 0.        , 1.        ],\n",
       "       [0.03222016, 0.        , 1.        ],\n",
       "       [0.04597403, 1.        , 0.        ],\n",
       "       [0.03782313, 0.        , 1.        ],\n",
       "       [0.05568336, 0.        , 1.        ],\n",
       "       [0.03371676, 1.        , 0.        ],\n",
       "       [0.04258503, 0.        , 1.        ],\n",
       "       [0.04671614, 0.        , 1.        ],\n",
       "       [0.02305504, 0.        , 1.        ],\n",
       "       [0.06836116, 0.        , 1.        ],\n",
       "       [0.04143476, 0.        , 1.        ],\n",
       "       [0.04288188, 0.        , 1.        ]])"
      ]
     },
     "execution_count": 11,
     "metadata": {},
     "output_type": "execute_result"
    }
   ],
   "source": [
    "X_test"
   ]
  },
  {
   "cell_type": "code",
   "execution_count": 7,
   "id": "single-holly",
   "metadata": {},
   "outputs": [],
   "source": [
    "cm = confusion_matrix(y_test,y_pred)"
   ]
  },
  {
   "cell_type": "code",
   "execution_count": 8,
   "id": "foster-hobby",
   "metadata": {},
   "outputs": [
    {
     "data": {
      "text/plain": [
       "<AxesSubplot:>"
      ]
     },
     "execution_count": 8,
     "metadata": {},
     "output_type": "execute_result"
    },
    {
     "data": {
      "image/png": "[encoded data removed]",
      "text/plain": [
       "<Figure size 432x288 with 2 Axes>"
      ]
     },
     "metadata": {
      "needs_background": "light"
     },
     "output_type": "display_data"
    }
   ],
   "source": [
    "labels = ['True Neg','False Pos','False Neg','True Pos']\n",
    "labels = np.asarray(labels).reshape(2,2)\n",
    "sns.heatmap(cm, annot=labels, fmt='', cmap='Blues')"
   ]
  },
  {
   "cell_type": "code",
   "execution_count": 9,
   "id": "fifteen-cylinder",
   "metadata": {},
   "outputs": [
    {
     "data": {
      "text/plain": [
       "['scaler.pkl']"
      ]
     },
     "execution_count": 9,
     "metadata": {},
     "output_type": "execute_result"
    }
   ],
   "source": [
    "import pickle\n",
    "from joblib import dump, load\n",
    "\n",
    "filename = 'sdsp_model.pkl'\n",
    "dump(clf, filename) \n",
    "\n",
    "scalerpickler = 'scaler.pkl'\n",
    "dump(scaler, scalerpickler)"
   ]
  },
  {
   "cell_type": "code",
   "execution_count": 10,
   "id": "creative-mediterranean",
   "metadata": {},
   "outputs": [],
   "source": [
    "mdl = load('sdsp_model.pkl')"
   ]
  },
  {
   "cell_type": "code",
   "execution_count": null,
   "id": "deadly-chance",
   "metadata": {},
   "outputs": [],
   "source": []
  },
  {
   "cell_type": "code",
   "execution_count": null,
   "id": "lonely-highlight",
   "metadata": {},
   "outputs": [],
   "source": []
  }
 ],
 "metadata": {
  "kernelspec": {
   "display_name": "Python 3",
   "language": "python",
   "name": "python3"
  },
  "language_info": {
   "codemirror_mode": {
    "name": "ipython",
    "version": 3
   },
   "file_extension": ".py",
   "mimetype": "text/x-python",
   "name": "python",
   "nbconvert_exporter": "python",
   "pygments_lexer": "ipython3",
   "version": "3.9.2"
  }
 },
 "nbformat": 4,
 "nbformat_minor": 5
}
